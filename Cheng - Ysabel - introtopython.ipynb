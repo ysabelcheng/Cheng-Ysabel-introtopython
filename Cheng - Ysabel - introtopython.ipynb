{
 "cells": [
  {
   "cell_type": "markdown",
   "metadata": {},
   "source": [
    "181102\n",
    "Cheng\n",
    "3 BS CTM"
   ]
  },
  {
   "cell_type": "code",
   "execution_count": 1,
   "metadata": {},
   "outputs": [],
   "source": [
    "def add_numbers(first, second, third):\n",
    "    total = first + second + third\n",
    "    return total\n",
    "\n",
    "def three_number_average(total):\n",
    "    return total / 3"
   ]
  },
  {
   "cell_type": "code",
   "execution_count": 4,
   "metadata": {},
   "outputs": [
    {
     "name": "stdout",
     "output_type": "stream",
     "text": [
      "Enter first number: 2\n",
      "Enter second number: 4\n",
      "Enter third number: 6\n",
      "The average is  4.0\n"
     ]
    }
   ],
   "source": [
    "# enter first number\n",
    "first = int(input(\"Enter first number: \"))\n",
    "\n",
    "# enter second number\n",
    "second = int(input(\"Enter second number: \"))\n",
    "\n",
    "# enter third number\n",
    "third = int(input(\"Enter third number: \"))\n",
    "\n",
    "# compute for total\n",
    "total = add_numbers(first, second, third)\n",
    "\n",
    "# compute for average\n",
    "average = three_number_average(total)\n",
    "\n",
    "# display the average\n",
    "print (\"The average is \", average)\n"
   ]
  },
  {
   "cell_type": "code",
   "execution_count": null,
   "metadata": {},
   "outputs": [],
   "source": []
  }
 ],
 "metadata": {
  "kernelspec": {
   "display_name": "Python 3",
   "language": "python",
   "name": "python3"
  },
  "language_info": {
   "codemirror_mode": {
    "name": "ipython",
    "version": 3
   },
   "file_extension": ".py",
   "mimetype": "text/x-python",
   "name": "python",
   "nbconvert_exporter": "python",
   "pygments_lexer": "ipython3",
   "version": "3.8.5"
  }
 },
 "nbformat": 4,
 "nbformat_minor": 4
}
